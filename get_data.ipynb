{
 "cells": [
  {
   "cell_type": "code",
   "execution_count": 1,
   "metadata": {
    "collapsed": true
   },
   "outputs": [],
   "source": [
    "import json\n",
    "import os\n",
    "\n",
    "import compmusic.dunya.conn\n",
    "from compmusic.dunya.docserver import get_document_as_json, get_mp3\n",
    "\n",
    "import urllib\n"
   ]
  },
  {
   "cell_type": "code",
   "execution_count": 2,
   "metadata": {
    "collapsed": true
   },
   "outputs": [],
   "source": [
    "# paste your Dunya token below\n",
    "token = 'XXX'\n",
    "compmusic.dunya.conn.set_token(token)\n"
   ]
  },
  {
   "cell_type": "code",
   "execution_count": 3,
   "metadata": {
    "collapsed": false
   },
   "outputs": [],
   "source": [
    "# paths\n",
    "data_folder = './data/'\n",
    "\n",
    "symbtr_mbid_url = 'https://raw.githubusercontent.com/MTG/SymbTr/master/symbTr_mbid.json'\n",
    "symbtr_mbid = json.loads(urllib.urlopen(symbtr_mbid_url).read())\n",
    "\n",
    "makam_recs_file = './dataset.json'\n",
    "makam_recs = json.load(open(makam_recs_file))\n"
   ]
  },
  {
   "cell_type": "code",
   "execution_count": 4,
   "metadata": {
    "collapsed": false
   },
   "outputs": [
    {
     "name": "stdout",
     "output_type": "stream",
     "text": [
      "huzzam, ea7e2b41-e009-48f9-88e3-9fcf9854d9f9\n",
      "huzzam, da4d7b0b-af8f-42ea-bce0-0bda85fa6801\n",
      "huzzam, fce6fe19-a1cd-4bdc-b04a-dc6d1c2ca8c8\n",
      "huzzam, fa8a4b53-bafb-467c-84ea-3089c28f9463\n",
      "huzzam, 9e02612c-5a0f-4d34-a627-773d86eb8532\n",
      "huzzam, c6089405-6f18-4562-8c24-fff2adc42eee\n",
      "huzzam, 97eb2ab3-11f9-4ae5-92b3-115e490a11a6\n",
      "huzzam, 470c6b30-22dd-465e-b695-14aa594c2426\n",
      "huzzam, 5ad212c5-56a9-4207-b542-102bc3fec2e3\n",
      "huzzam, 4df2f27a-fca8-4166-9674-250855492187\n",
      "rast, b466a80f-820e-4083-857f-2417d1551134\n",
      "rast, d9cdfff9-fe30-4064-b271-f97dbcf6071b\n",
      "rast, b1e0c3ae-7070-4d80-80f3-2875a3802226\n",
      "rast, 31bf3d56-03d8-484e-b63c-ae5ae9a6e733\n",
      "rast, e2e735a4-a034-4bc5-971e-ae5fa5969c7c\n",
      "rast, 0321f83e-bee5-4009-983b-1b4fe3c89f23\n",
      "rast, 0967e5b6-8bff-45b3-9926-e9cb3d244463\n",
      "rast, 7aec9833-6482-4917-87bd-e60c7c1dae3c\n",
      "rast, 385acc87-87ae-4197-ae8b-2226655ba304\n",
      "rast, 6c48b93f-16fa-4adc-bf7b-26652f64defb\n",
      "hicaz, ff9769d3-81f4-4d30-b6a4-30179f668236\n",
      "hicaz, ecd6dafc-13a9-4852-b45c-31ba7a3a21d5\n",
      "hicaz, 59dcf72f-301c-41d9-ab5a-e55206aecf04\n",
      "hicaz, 46e5abd4-a570-4dc4-a219-167b49736abe\n",
      "hicaz, e0bed0ed-96c1-499f-a7a5-025abad22349\n",
      "hicaz, c7004332-38f0-40de-a040-07e4a1ada528\n",
      "hicaz, 7b6f48da-b415-4664-880b-2a37a60fb897\n",
      "hicaz, 184886ba-9e1b-41c8-8c0f-fdd351f08817\n",
      "hicaz, 5be58089-8726-4cbc-854d-f3d6a3e34a2b\n",
      "hicaz, 9f172b31-69b9-4cea-bfb0-6b7aaaaadf1c\n",
      "ussak, 6e220f2d-fbcf-4f8b-a961-9c7f73c623d7\n",
      "ussak, e72db0ad-2ed9-467b-88ae-1f91edcd2c59\n",
      "ussak, 32e029de-8550-4bc6-ac8b-df55e8ba456e\n",
      "ussak, 92ef6776-09fa-41be-8661-025f9b33be4f\n",
      "ussak, c4b8b080-dbe0-45d3-b12c-798a57a2813f\n",
      "ussak, 99d17fb7-9ff6-4d16-8742-4244a870cdae\n",
      "ussak, 03faad43-689e-4814-93ad-b7f678531e5f\n",
      "ussak, f970f1e0-0be9-4914-8302-709a0eac088e\n",
      "ussak, cca7ba0a-9614-449d-b73e-ac761f270c63\n",
      "ussak, 80b42df4-e113-4084-8b25-e33eb7ee4aa6\n",
      "nihavent, 727cff89-392f-4d15-926d-63b2697d7f3f\n",
      "nihavent, 66a4452f-78c0-4861-8c4b-5342773b3d2d\n",
      "nihavent, f36d6f34-fd56-4038-ba45-460df239a4b8\n",
      "nihavent, 42f0ae68-f207-4d1d-8163-9e392cc15741\n",
      "nihavent, 13638e3a-eb16-47db-b6b2-f0091a7b8210\n",
      "nihavent, 567b6a3c-0f08-42f8-b844-e9affdc9d215\n",
      "nihavent, 03425c44-4665-4cee-8b04-39bb3de019b5\n",
      "nihavent, 133dec8a-fd3e-4347-b71a-230a9899673f\n",
      "nihavent, 63cf6e28-86bb-4ceb-9a36-5a9c27de12a8\n",
      "nihavent, f716d17e-c086-4011-b95b-4c75ec998e18\n"
     ]
    }
   ],
   "source": [
    "for makam, recs in makam_recs.items():\n",
    "    # makam folder\n",
    "    makam_folder = os.path.join(data_folder, makam)\n",
    "    \n",
    "    # create makam directory if it doesn't exist\n",
    "    if not os.path.exists(makam_folder):\n",
    "        os.makedirs(makam_folder)\n",
    "    \n",
    "    for rec in recs:\n",
    "        recid = os.path.split(rec)[-1]\n",
    "        print makam + ', ' + recid\n",
    "        \n",
    "        # audio metadata\n",
    "        metadata = get_document_as_json(recid, 'audioanalysis', 'metadata')\n",
    "        \n",
    "        ## ------------------ Obtain the relevant SymbTr score ------------\n",
    "        # get the symbtr work\n",
    "        assert len(metadata['works']) == 1, 'More that one work in the recording %s' % recid\n",
    "        workid = metadata['works'][0]['mbid']\n",
    "\n",
    "        # get the symbtr name\n",
    "        symbtr = None\n",
    "        for sm in symbtr_mbid:\n",
    "            if workid in sm['uuid']:\n",
    "                symbtr = sm['name']\n",
    "\n",
    "        assert symbtr is not None, 'No SymbTr score matched for the work %s' % workid\n",
    "\n",
    "        # create symbtr folder\n",
    "        symbtr_folder = os.path.join(makam_folder, symbtr)\n",
    "        if not os.path.exists(symbtr_folder):\n",
    "            os.makedirs(symbtr_folder)\n",
    "            \n",
    "        # copy the relevant SymbTr documents\n",
    "        # TODO\n",
    "\n",
    "        ## ------------------ Obtain the relevant recording and features ------------\n",
    "        # create audio folder\n",
    "        rec_folder = os.path.join(symbtr_folder, recid)\n",
    "        if not os.path.exists(rec_folder):\n",
    "            os.makedirs(rec_folder)\n",
    "        \n",
    "        # metadata \n",
    "        metadata_file = os.path.join(rec_folder, 'metadata.json')\n",
    "        json.dump(metadata, open(metadata_file, 'w'), indent=4)\n",
    "        \n",
    "        # ... download the relevant audio analysis features\n",
    "        # pitch\n",
    "        pitch = get_document_as_json(recid, 'audioanalysis', 'pitch_filtered')\n",
    "        pitch_file = os.path.join(rec_folder, 'pitch_filtered.json')\n",
    "        json.dump(pitch, open(pitch_file, 'w'))\n",
    "\n",
    "        # mp3\n",
    "        mp3 = get_mp3(recid)\n",
    "        mp3_file = os.path.join(rec_folder, recid + '.mp3')\n",
    "        open(mp3_file, 'w').write(mp3)\n",
    "\n",
    "        # pitch distribution\n",
    "        pd = get_document_as_json(recid, 'audioanalysis', 'pitch_distribution')\n",
    "        pd_file = os.path.join(rec_folder, 'pitch_distribution.json')\n",
    "        json.dump(pd, open(pd_file, 'w'))\n",
    "\n",
    "        # stable notes\n",
    "        nm = get_document_as_json(recid, 'audioanalysis', 'note_models')\n",
    "        nm_file = os.path.join(rec_folder, 'note_models.json')\n",
    "        json.dump(nm, open(nm_file, 'w'))\n",
    "        \n",
    "        # ... download the relevant joint analysis features\n",
    "        # TODO\n"
   ]
  }
 ],
 "metadata": {
  "kernelspec": {
   "display_name": "Python 2",
   "language": "python",
   "name": "python2"
  },
  "language_info": {
   "codemirror_mode": {
    "name": "ipython",
    "version": 2
   },
   "file_extension": ".py",
   "mimetype": "text/x-python",
   "name": "python",
   "nbconvert_exporter": "python",
   "pygments_lexer": "ipython2",
   "version": "2.7.11+"
  }
 },
 "nbformat": 4,
 "nbformat_minor": 2
}
