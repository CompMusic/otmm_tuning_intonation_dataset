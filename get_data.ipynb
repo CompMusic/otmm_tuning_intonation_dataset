{
 "cells": [
  {
   "cell_type": "code",
   "execution_count": null,
   "metadata": {
    "collapsed": true
   },
   "outputs": [],
   "source": [
    "import json\n",
    "import os\n",
    "\n",
    "import compmusic.dunya.conn\n",
    "from compmusic.dunya.docserver import get_document_as_json, get_mp3\n",
    "\n",
    "import urllib\n"
   ]
  },
  {
   "cell_type": "code",
   "execution_count": null,
   "metadata": {
    "collapsed": true
   },
   "outputs": [],
   "source": [
    "# paste your Dunya token below\n",
    "token = 'XXX'\n",
    "compmusic.dunya.conn.set_token(token)\n"
   ]
  },
  {
   "cell_type": "code",
   "execution_count": null,
   "metadata": {
    "collapsed": false
   },
   "outputs": [],
   "source": [
    "# paths\n",
    "data_folder = './data/'\n",
    "\n",
    "symbtr_mbid_url = 'https://raw.githubusercontent.com/MTG/SymbTr/master/symbTr_mbid.json'\n",
    "symbtr_mbid = json.loads(urllib.urlopen(symbtr_mbid_url).read())\n",
    "\n",
    "makam_recs_file = './dataset.json'\n",
    "makam_recs = json.load(open(makam_recs_file))\n"
   ]
  },
  {
   "cell_type": "code",
   "execution_count": null,
   "metadata": {
    "collapsed": false
   },
   "outputs": [],
   "source": [
    "for makam, recs in makam_recs.items():\n",
    "    # makam folder\n",
    "    makam_folder = os.path.join(data_folder, makam.title())\n",
    "    \n",
    "    # create makam directory if it doesn't exist\n",
    "    if not os.path.exists(makam_folder):\n",
    "        os.makedirs(makam_folder)\n",
    "    \n",
    "    for rec in recs:\n",
    "        recid = os.path.split(rec)[-1]\n",
    "        print makam + ', ' + recid\n",
    "        \n",
    "        # audio metadata\n",
    "        metadata = get_document_as_json(recid, 'audioanalysis', 'metadata')\n",
    "        \n",
    "        ## ------------------ Obtain the relevant SymbTr score ------------\n",
    "        # get the symbtr work\n",
    "        assert len(metadata['works']) == 1, 'More that one work in the recording %s' % recid\n",
    "        workid = metadata['works'][0]['mbid']\n",
    "\n",
    "        # get the symbtr name\n",
    "        symbtr = None\n",
    "        for sm in symbtr_mbid:\n",
    "            if workid in sm['uuid']:\n",
    "                symbtr = sm['name']\n",
    "\n",
    "        assert symbtr is not None, 'No SymbTr score matched for the work %s' % workid\n",
    "\n",
    "        # create symbtr folder\n",
    "        symbtr_folder = os.path.join(makam_folder, symbtr)\n",
    "        if not os.path.exists(symbtr_folder):\n",
    "            os.makedirs(symbtr_folder)\n",
    "            \n",
    "        # copy the relevant SymbTr documents\n",
    "        # TODO\n",
    "\n",
    "        ## ------------------ Obtain the relevant recording and features ------------\n",
    "        # create audio folder\n",
    "        rec_folder = os.path.join(symbtr_folder, recid)\n",
    "        if not os.path.exists(rec_folder):\n",
    "            os.makedirs(rec_folder)\n",
    "        \n",
    "        # metadata \n",
    "        metadata_file = os.path.join(rec_folder, 'metadata.json')\n",
    "        json.dump(metadata, open(metadata_file, 'w'), indent=4)\n",
    "        \n",
    "        # pitch\n",
    "        pitch = get_document_as_json(recid, 'audioanalysis', 'pitch_filtered')\n",
    "        pitch_file = os.path.join(rec_folder, 'pitch_filtered.json')\n",
    "        json.dump(pitch, open(pitch_file, 'w'))\n",
    "\n",
    "        # mp3\n",
    "        mp3 = get_mp3(recid)\n",
    "        mp3_file = os.path.join(rec_folder, recid + '.mp3')\n",
    "        open(mp3_file, 'w').write(mp3)\n",
    "\n",
    "        # pitch distribution\n",
    "        pd = get_document_as_json(recid, 'audioanalysis', 'pitch_distribution')\n",
    "        pd_file = os.path.join(rec_folder, 'pitch_distribution.json')\n",
    "        json.dump(pd, open(pd_file, 'w'))\n",
    "\n",
    "        # stable notes\n",
    "        nm = get_document_as_json(recid, 'audioanalysis', 'note_models')\n",
    "        nm_file = os.path.join(rec_folder, 'note_models.json')\n",
    "        json.dump(nm, open(nm_file, 'w'))\n",
    "        "
   ]
  }
 ],
 "metadata": {
  "kernelspec": {
   "display_name": "Python 2",
   "language": "python",
   "name": "python2"
  },
  "language_info": {
   "codemirror_mode": {
    "name": "ipython",
    "version": 2
   },
   "file_extension": ".py",
   "mimetype": "text/x-python",
   "name": "python",
   "nbconvert_exporter": "python",
   "pygments_lexer": "ipython2",
   "version": "2.7.11+"
  }
 },
 "nbformat": 4,
 "nbformat_minor": 2
}
